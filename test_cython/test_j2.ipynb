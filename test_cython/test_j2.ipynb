{
 "cells": [
  {
   "cell_type": "code",
   "execution_count": 1,
   "metadata": {},
   "outputs": [],
   "source": [
    "%load_ext Cython"
   ]
  },
  {
   "cell_type": "code",
   "execution_count": 2,
   "metadata": {},
   "outputs": [
    {
     "name": "stdout",
     "output_type": "stream",
     "text": [
      "[1/1] Cythonizing C:\\Users\\pr0gr\\.ipython\\cython\\_cython_magic_88ab38b2e14e76e348d164d1bf9a58d6.pyx\n",
      "building '_cython_magic_88ab38b2e14e76e348d164d1bf9a58d6' extension\n",
      "\n",
      "1:  C:\\Program Files (x86)\\Microsoft Visual Studio\\2017\\WDExpress\\VC\\Auxiliary\\Build \n",
      "\n",
      "Visual C++ is not registered\n",
      "No suitable Visual C++ version found\n",
      "\n",
      "3:  C:\\Program Files (x86)\\Microsoft Visual Studio\\2017\\WDExpress\\VC\\Auxiliary\\Build \n",
      "\n",
      "creating C:\\Users\\pr0gr\\.ipython\\cython\\Users\n",
      "creating C:\\Users\\pr0gr\\.ipython\\cython\\Users\\pr0gr\n",
      "creating C:\\Users\\pr0gr\\.ipython\\cython\\Users\\pr0gr\\.ipython\n",
      "creating C:\\Users\\pr0gr\\.ipython\\cython\\Users\\pr0gr\\.ipython\\cython\n",
      "C:\\Program Files (x86)\\Microsoft Visual Studio\\2017\\WDExpress\\VC\\Tools\\MSVC\\14.16.27023\\bin\\HostX86\\x64\\cl.exe /c /nologo /Ox /W3 /GL /DNDEBUG /MT -Ic:\\Users\\pr0gr\\RD_club\\projects\\.venv\\include -IC:\\Users\\pr0gr\\AppData\\Local\\Programs\\Python\\Python36\\include -IC:\\Users\\pr0gr\\AppData\\Local\\Programs\\Python\\Python36\\include \"-IC:\\Program Files (x86)\\Microsoft Visual Studio\\2017\\WDExpress\\VC\\Tools\\MSVC\\14.16.27023\\include\" \"-IC:\\Program Files (x86)\\Windows Kits\\NETFXSDK\\4.6.1\\include\\um\" -IC:\\Users\\pr0gr\\StudioProjects\\untitled\\android\\app\\libs\\include\\10.0.17763.0\\ucrt -IC:\\Users\\pr0gr\\StudioProjects\\untitled\\android\\app\\libs\\include\\10.0.17763.0\\shared -IC:\\Users\\pr0gr\\StudioProjects\\untitled\\android\\app\\libs\\include\\10.0.17763.0\\um -IC:\\Users\\pr0gr\\StudioProjects\\untitled\\android\\app\\libs\\include\\10.0.17763.0\\winrt -IC:\\Users\\pr0gr\\StudioProjects\\untitled\\android\\app\\libs\\include\\10.0.17763.0\\cppwinrt /TcC:\\Users\\pr0gr\\.ipython\\cython\\_cython_magic_88ab38b2e14e76e348d164d1bf9a58d6.c /FoC:\\Users\\pr0gr\\.ipython\\cython\\Users\\pr0gr\\.ipython\\cython\\_cython_magic_88ab38b2e14e76e348d164d1bf9a58d6.obj\n",
      "Executing \"C:\\Program Files (x86)\\Microsoft Visual Studio\\2017\\WDExpress\\VC\\Tools\\MSVC\\14.16.27023\\bin\\HostX86\\x64\\link.exe\" /nologo /INCREMENTAL:NO /LTCG /nodefaultlib:libucrt.lib ucrt.lib /DLL /MANIFEST:EMBED,ID=2 /MANIFESTUAC:NO /LIBPATH:c:\\Users\\pr0gr\\RD_club\\projects\\.venv\\libs /LIBPATH:C:\\Users\\pr0gr\\AppData\\Local\\Programs\\Python\\Python36\\libs /LIBPATH:C:\\Users\\pr0gr\\AppData\\Local\\Programs\\Python\\Python36 /LIBPATH:c:\\Users\\pr0gr\\RD_club\\projects\\.venv\\PCbuild\\amd64 /LIBPATH:C:\\Program Files (x86)\\Microsoft Visual Studio\\2017\\WDExpress\\VC\\Tools\\MSVC\\14.16.27023\\lib\\x64 /LIBPATH:C:\\Program Files (x86)\\Windows Kits\\NETFXSDK\\4.6.1\\lib\\um\\x64 /LIBPATH:C:\\Users\\pr0gr\\StudioProjects\\untitled\\android\\app\\libs\\lib\\10.0.17763.0\\ucrt\\x64 /LIBPATH:C:\\Users\\pr0gr\\StudioProjects\\untitled\\android\\app\\libs\\lib\\10.0.17763.0\\um\\x64 /EXPORT:PyInit__cython_magic_88ab38b2e14e76e348d164d1bf9a58d6 C:\\Users\\pr0gr\\.ipython\\cython\\Users\\pr0gr\\.ipython\\cython\\_cython_magic_88ab38b2e14e76e348d164d1bf9a58d6.obj /OUT:C:\\Users\\pr0gr\\.ipython\\cython\\_cython_magic_88ab38b2e14e76e348d164d1bf9a58d6.cp36-win_amd64.pyd /IMPLIB:C:\\Users\\pr0gr\\.ipython\\cython\\Users\\pr0gr\\.ipython\\cython\\_cython_magic_88ab38b2e14e76e348d164d1bf9a58d6.cp36-win_amd64.lib\n",
      "C:\\Program Files (x86)\\Microsoft Visual Studio\\2017\\WDExpress\\VC\\Tools\\MSVC\\14.16.27023\\bin\\HostX86\\x64\\link.exe /nologo /INCREMENTAL:NO /LTCG /nodefaultlib:libucrt.lib ucrt.lib /DLL /MANIFEST:EMBED,ID=2 /MANIFESTUAC:NO /LIBPATH:c:\\Users\\pr0gr\\RD_club\\projects\\.venv\\libs /LIBPATH:C:\\Users\\pr0gr\\AppData\\Local\\Programs\\Python\\Python36\\libs /LIBPATH:C:\\Users\\pr0gr\\AppData\\Local\\Programs\\Python\\Python36 /LIBPATH:c:\\Users\\pr0gr\\RD_club\\projects\\.venv\\PCbuild\\amd64 \"/LIBPATH:C:\\Program Files (x86)\\Microsoft Visual Studio\\2017\\WDExpress\\VC\\Tools\\MSVC\\14.16.27023\\lib\\x64\" \"/LIBPATH:C:\\Program Files (x86)\\Windows Kits\\NETFXSDK\\4.6.1\\lib\\um\\x64\" /LIBPATH:C:\\Users\\pr0gr\\StudioProjects\\untitled\\android\\app\\libs\\lib\\10.0.17763.0\\ucrt\\x64 /LIBPATH:C:\\Users\\pr0gr\\StudioProjects\\untitled\\android\\app\\libs\\lib\\10.0.17763.0\\um\\x64 /EXPORT:PyInit__cython_magic_88ab38b2e14e76e348d164d1bf9a58d6 C:\\Users\\pr0gr\\.ipython\\cython\\Users\\pr0gr\\.ipython\\cython\\_cython_magic_88ab38b2e14e76e348d164d1bf9a58d6.obj /OUT:C:\\Users\\pr0gr\\.ipython\\cython\\_cython_magic_88ab38b2e14e76e348d164d1bf9a58d6.cp36-win_amd64.pyd /IMPLIB:C:\\Users\\pr0gr\\.ipython\\cython\\Users\\pr0gr\\.ipython\\cython\\_cython_magic_88ab38b2e14e76e348d164d1bf9a58d6.cp36-win_amd64.lib\n"
     ]
    }
   ],
   "source": [
    "%%cython\n",
    "def cyth(n):\n",
    "    a, b = 0, 1\n",
    "    for i in range(n):\n",
    "        a, b = a + b, a\n",
    "    return a"
   ]
  }
 ],
 "metadata": {
  "interpreter": {
   "hash": "79d881d3545764ae37b90ddefa6c13335ad6bd58da30226de060c17cdaddbf42"
  },
  "kernelspec": {
   "display_name": "Python 3.6.8 64-bit ('.venv': venv)",
   "language": "python",
   "name": "python3"
  },
  "language_info": {
   "codemirror_mode": {
    "name": "ipython",
    "version": 3
   },
   "file_extension": ".py",
   "mimetype": "text/x-python",
   "name": "python",
   "nbconvert_exporter": "python",
   "pygments_lexer": "ipython3",
   "version": "3.6.8"
  },
  "orig_nbformat": 4
 },
 "nbformat": 4,
 "nbformat_minor": 2
}
